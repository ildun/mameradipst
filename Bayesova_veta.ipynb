{
 "cells": [
  {
   "cell_type": "markdown",
   "metadata": {},
   "source": [
    "**Materiály vznikají průběžně a jsou bez záruky - prosím o report chyb :-)**\n",
    "\n",
    "---"
   ]
  },
  {
   "cell_type": "code",
   "execution_count": 2,
   "metadata": {
    "slideshow": {
     "slide_type": "skip"
    }
   },
   "outputs": [],
   "source": [
    "import numpy as np\n",
    "from scipy.special import comb\n",
    "np.set_printoptions(precision=3)"
   ]
  },
  {
   "cell_type": "markdown",
   "metadata": {
    "slideshow": {
     "slide_type": "slide"
    }
   },
   "source": [
    "# Téma 3: Bayesova věta\n",
    "\n",
    "Připomeňme si ještě jednou, co jsme se dozvěděli na minulém cvičení a přednáškách.\n",
    "\n",
    "> **Definice**\n",
    ">\n",
    "> Buďte $A$ a $B$ jevy a $P(B) > 0$. **Podmíněnou pravděpodobností** $A$ za podmínky $B$ nazýváme\n",
    "> \n",
    ">$$\n",
    "P(A|B) = \\frac{P(A\\cap B)}{P(B)}.\n",
    "$$"
   ]
  },
  {
   "cell_type": "markdown",
   "metadata": {
    "slideshow": {
     "slide_type": "slide"
    }
   },
   "source": [
    "> **Věta o úplné pravděpodobnosti**\n",
    ">\n",
    "> Nechť $B_1, \\ldots, B_n$ je rozklad $\\Omega$ takový, že pro každé $i$ je $P(B_i)>0$. Potom pro každý jev $A$ platí\n",
    ">\n",
    ">$$\n",
    "P(A) = \\sum_{i=1}^n P(A|B_i) P(B_i).\n",
    "$$\n",
    "\n",
    "Věta o úplné pravděpodobnosti říká, jak se dostat k marginální pravděpodobnosti jevu $A$. Kdybychom si argumenty v sumě přepsali do průnikových pravděpodobností (viz definice výše), tak sčítáme míry jednotlivých průniků - viz obrázek. \n",
    "\n",
    "![marginalizace](img/marginalizace.jpg)\n",
    "\n",
    "Vzpomeňme rovněž, co se dělo na minulém cvičení v tabulkách při sčítání řádků či sloupců :) Jednoduché, že? \n",
    "\n",
    "_Přitom ve skutečnosti ani trochu ;-)_"
   ]
  },
  {
   "cell_type": "markdown",
   "metadata": {
    "slideshow": {
     "slide_type": "slide"
    }
   },
   "source": [
    "# Bayesova věta\n",
    "\n",
    "Následující věta je jedním ze základů tzv. bayesovské pravděpodobnosti a statistiky, která je alternativou k frekventistickému (\"četnostnímu\") pojetí statistiky v BI-PST. Umožňuje nám totiž kvantifikovat míru nejistoty spjatou s odhadem vyšetřované situace, např. kde se může nacházet ztracená vodíková bomba či letadlo, nebo jaké jsou vlastnosti nově vyvinutého léku. Zájemci si jednou rádi zapíší NI-BML :)\n",
    "\n",
    "> **Bayesova věta**\n",
    ">\n",
    "> Nechť $B_1, \\ldots, B_n$ je rozklad $\\Omega$ takový, že pro každé $j$ je $P(B_j)>0$. Dále nechť $A$ je náhodný jev s $P(A)>0$. Potom platí\n",
    ">\n",
    "> $$\n",
    "P(B_j|A) = \\frac{P(A|B_j) P(B_j)}{P(A)}.\n",
    "$$\n",
    "\n",
    "$P(A)$ ve jmenovateli je právě z věty o úplné pravděpodobnosti, proto\n",
    "\n",
    "$$\n",
    "P(B_j|A) = \\frac{P(A|B_j) P(B_j)}{\\sum_{i=1}^n P(A|B_i) P(B_i)}.\n",
    "$$\n",
    "\n",
    "Bayesovu větu si nemusíme pamatovat, plyne jednoduše z rovnosti\n",
    "\n",
    "$$\n",
    "P(A|B_j) P(B_j) = P(B_j|A) P(A).\n",
    "$$\n",
    "\n",
    "Proto se jí někdy říká inverzní pravděpodobnost, neboť se ptáme na podmíněnou pravděpodobnost s prohozenými argumenty před a za podmínkou.\n",
    "\n",
    "Zkuste se nad Bayesovou větou zamyslet nad výše uvedeným obrázkem :)"
   ]
  },
  {
   "cell_type": "markdown",
   "metadata": {
    "slideshow": {
     "slide_type": "slide"
    }
   },
   "source": [
    "### Příklad: Palomares B-52 crash & H-bomb - baby version\n",
    "\n",
    "V roce 1966 došlo při tankování za letu ke [srážce B-52 s KC-135 nad Španělskem u města Palomares](https://en.wikipedia.org/wiki/1966_Palomares_B-52_crash). Výsledkem bylo několik mrtvých, 4 rozházené vodíkové bomby, z toho jedna ztracená, u dvou explodovaly iniciační nálože a rozmetaly radioaktivní část bomby po okolí. Při hledání - a úspěšném nalezení - čtvrté byl použit bayesovský aparát. Zkusíme si baby verzi hledání bomby.\n",
    "\n",
    "Máme určit pravděpodobnosti lokace bomby ve třech hrubě rozdělených oblastech $S_1, S_2, S_3$, kterým přidělíme rovnoměrnou apriorní pravděpodobnost, tedy $\\frac{1}{3}$ každé. To v praxi znamená, že před analýzou neupřednostňujeme žádnou oblast. Následující obrázek ukazuje dané oblasti ve výřezech z mapy:\n",
    "\n",
    "![Palomares map](img/palomaresmap.jpg)\n",
    "\n",
    "Jelikož se našla součást padáku, předpokládá se, že se úspěšně otevřel. Experti tedy na základě meteo údajů sestavili následující model:\n",
    "- zavedli hrubé kategorie větru $v_a, v_b,\\ldots$ z hlediska průměrného směru a rychlosti,\n",
    "- pro každou kategorii $v_a, v_b,\\ldots$ několikrát simulovali pád předmětu na padáku a na základě počtu dopadů do jednotlivých oblastí $S_1, S_2$ a $S_3$ určovali, jaká je pravděpodobnost jednotlivých kategorií.\n",
    "\n",
    "Všimněte si, že podmíněné pravděpodobnosti $P(V|S_1)$ pro vítr se nemusí sčítat do jedničky! (Rozmyslete - a poté porovnejte s příkladem o rozpoznávání textu. Všimněte si navíc, že by bylo možné udělat pěkné tabulky i zde a sčítat řádky, sloupce...)\n",
    "\n",
    "Označme datum D = 17. 1. 1966 a **známou (!!!)**  kategorii větru v tento den $v_D$. Ze simulačního modelu můžeme tedy vybrat odpovídající kategorii. Ta, plus apriorní informace o pravděpodobnostech jednotlivých oblastí, vypadají následovně:\n",
    "\n",
    "Pravděpodobnost/oblast | S_1 | S_2 | S_3\n",
    "--- | :---: | :---: | :---: \n",
    "$P(V=v_{D}\\vert S_i)$ | 0.1 | 0.3 | 0.4\n",
    "$P(S_i)$ | 1/3 | 1/3 | 1/3\n",
    "\n",
    "\n",
    "**Analýza:**\n",
    "\n",
    "Z uvedených údajů tedy plyne:\n",
    "\n",
    "Ptáme se na inverzní pravděpodobnost k $P(V|S_i)$, tedy na $P(S_i|V)$ - použijeme Bayesovu větu, kterou si nejprve z pohodlnosti odvodíme pro tento konkrétní případ ze vzorce pro pravděpodobnosti průniku podmíněných jevů:\n",
    "\n",
    "$$\n",
    "P(S_i|V) \\cdot P(V) = P(V|S_i) \\cdot P(S_i).\n",
    "$$\n",
    "\n",
    "Tedy\n",
    "\n",
    "$$\n",
    "\\begin{aligned}\n",
    "P(S_i|V=v_D) \n",
    "= \\frac{P(V=v_D|S_i) \\cdot P(S_i)}{P(V=v_D)}\n",
    "= \\frac{P(V=v_D|S_i) \\cdot P(S_i)}{\\sum_{i=1}^{3} P(V=v_D|S_i)\\cdot  P(S_i)}\n",
    "\\end{aligned}\n",
    "$$\n",
    "\n",
    "Dosazením dostáváme pro jednotlivé oblasti pravděpodobnosti:"
   ]
  },
  {
   "cell_type": "code",
   "execution_count": 3,
   "metadata": {
    "slideshow": {
     "slide_type": "subslide"
    }
   },
   "outputs": [
    {
     "name": "stdout",
     "output_type": "stream",
     "text": [
      "Pravděpodobnost P(V=v_D): 0.267\n",
      "Aposteriorní pravděpodobnosti oblastí:  [0.125 0.375 0.5  ]\n",
      "Kontrola - suma P(Si|V):  1.0\n",
      "Kontrola - rozdíl pstí průniků:  0.0\n"
     ]
    }
   ],
   "source": [
    "P_V__Si = np.array([.1, .3, .4])\n",
    "P_Si = np.ones(3) / 3\n",
    "\n",
    "P_V = np.sum(P_V__Si * P_Si)\n",
    "P_Si__V = P_V__Si * P_Si\n",
    "P_Si__V /= P_V\n",
    "print(f\"Pravděpodobnost P(V=v_D): {P_V:.3f}\")\n",
    "print(\"Aposteriorní pravděpodobnosti oblastí: \", P_Si__V)\n",
    "print(\"Kontrola - suma P(Si|V): \", P_Si__V.sum())\n",
    "print(\"Kontrola - rozdíl pstí průniků: \", np.sum(P_Si__V * P_V) - np.sum(P_V__Si * P_Si))"
   ]
  },
  {
   "cell_type": "markdown",
   "metadata": {},
   "source": [
    "S největší pravděpodobností se tedy ztracená vodíková puma nachází v oblasti $S_3$, tedy někde v moři.\n",
    "\n",
    "Samotné hledání bylo samozřejmě mnohem sofistikovanější, ale tato \"baby verze\" snad dostatečně demonstruje, jak funguje [Bayesian search theory](https://en.wikipedia.org/wiki/Bayesian_search_theory), uplatněná i při hledání ztracené [ponorky](https://en.wikipedia.org/wiki/USS_Scorpion_(SSN-589)), letadel a jiných objektů. Za \"filosofické\" povšimnutí stojí, že podobným způsobem funguje i běžné lidské hledání ztracených věcí - apriorní informací je naše přesvědčení, kde jsme mohli danou věc nejspíše ztratit. Tuto informaci následně updatujeme získanými poznatky, ať už je to vlastní hledání, nebo vzpomínání, kde jsme ještě onu věc použili. Sice nepoužíváme číselnou kvantifikaci těchto informací, ale s pojmy *více* a *méně pravděpodobné* pracujeme naprosto přirozeně. :-)"
   ]
  },
  {
   "cell_type": "markdown",
   "metadata": {},
   "source": [
    "### Příklad\n",
    "\n",
    "Stojíme před big data problémem. [HST (Hubble Space Telescope)](https://en.wikipedia.org/wiki/Hubble_Space_Telescope) nasnímkoval část hlubokého vesmíru a je potřeba z nepředzpracovaných dat získat co největší informaci o počtu galaxií v dané oblasti. K tomu použijeme klasifikační metodu, která - jak víme z předchozích experimentů - má následující vlastnosti ($G$ = True Galaxy, $X$ = True non-Galaxy, $T_G$ = Test Galaxy, $T_X$ =  Test non-Galaxy).\n",
    "\n",
    "- $P(T_G|G) = 0.92$\n",
    "- $P(T_X|X) = 0.97$\n",
    "- $P(G) = 0.005$\n",
    "\n",
    "Jaká je pravděpodobnost, že na snímku je galaxie, pokud to klasifikátor tvrdí? A jaká je pravděpodobnost, že tam ta galaxie není?\n",
    "\n",
    "*Řešení:*\n",
    "\n",
    "*Dopíšeme si zbytek pravděpodobností:*\n",
    "\n",
    "- $P(T_G|X) = 0.03$\n",
    "- $P(T_X|G) = 0.08$\n",
    "- $P(X) = 0.995$\n",
    "\n",
    "*Hledáme $P(G|T_G)$, tedy inverzní pravděpodobnost k $P(T_G|G)$. Odvodíme si Bayesův vzorec:*\n",
    "\n",
    "$$\n",
    "P(T_G|G) P(G) = P(G|T_G) P(T_G) \\Rightarrow P(G|T_G) = \\frac{P(T_G|G) P(G)}{P(T_G)},\n",
    "$$\n",
    "\n",
    "kde z věty pro úplnou pravděpodobnost dostaneme\n",
    "\n",
    "$$\n",
    "P(T_G) = P(T_G|G)\\cdot P(G) + P(T_G|X)\\cdot P(X)\n",
    "$$\n",
    "\n",
    "Že na snímku galaxie není je jev opačný, tedy $P(X|T_G) = 1 - P(G|T_G)$. Můžeme ale rovněž spočítat podle Bayesova vzorce pro kontrolu. Stačí jen vyměnit čitatel ve zlomku."
   ]
  },
  {
   "cell_type": "code",
   "execution_count": 4,
   "metadata": {},
   "outputs": [
    {
     "name": "stdout",
     "output_type": "stream",
     "text": [
      "Pravděpodobnost TG: 0.034\n",
      "Pravděpodobnost TG & G: 0.005\n",
      "Pravděpodobnost TG & X: 0.030\n",
      "Pravděpodobnost G|TG: 0.134\n",
      "Pravděpodobnost X|TG: 0.866\n",
      "Kontrola:  1.0\n"
     ]
    }
   ],
   "source": [
    "P_TG__G = 0.92\n",
    "P_TX__X = 0.97\n",
    "P_G = 0.005\n",
    "P_X = 1 - P_G\n",
    "P_TX__G = 1 - P_TG__G\n",
    "P_TG__X = 1 - P_TX__X\n",
    "P_TG = P_TG__G * P_G + P_TG__X * P_X\n",
    "P_G_TG = P_TG__G * P_G\n",
    "P_X_TG = P_TG__X * P_X\n",
    "P_G__TG = P_G_TG / P_TG\n",
    "P_X__TG = P_X_TG / P_TG\n",
    "print(\"Pravděpodobnost TG: {0:.3f}\".format(P_TG))\n",
    "print(\"Pravděpodobnost TG & G: {0:.3f}\".format(P_G_TG))\n",
    "print(\"Pravděpodobnost TG & X: {0:.3f}\".format(P_X_TG))\n",
    "print(\"Pravděpodobnost G|TG: {0:.3f}\".format(P_G__TG))\n",
    "print(\"Pravděpodobnost X|TG: {0:.3f}\".format(P_X__TG))\n",
    "print(\"Kontrola: \", P_G__TG + P_X__TG)"
   ]
  },
  {
   "cell_type": "markdown",
   "metadata": {},
   "source": [
    "Uvedený problém dopočítávání různých vlastností klasifikátorů je velmi frekventovaný. Dobře vlastnosti shrnuje tzv. [matice záměn - confusion matrix](https://en.wikipedia.org/wiki/Confusion_matrix)"
   ]
  },
  {
   "cell_type": "markdown",
   "metadata": {},
   "source": [
    "Vášnivým čtenářům je rozhodně nutné doporučit knihu od [S.B. McGrayneho \"_The Theory That Would Not Die: How Bayes' Rule Cracked the Enigma Code, Hunted Down Russian Submarines, and Emerged Triumphant from Two Centuries of Controversy_\"](https://www.amazon.com/Theory-That-Would-Not-Die/dp/0300188226) - beletristicky zpracovaná historie využití bayesovské teorie. A navíc je dost čtivá :-)"
   ]
  },
  {
   "cell_type": "markdown",
   "metadata": {},
   "source": [
    "## Doplněk: Covid & rapid testy na SARS-CoV2 (k jaru 2020)\n",
    "![rapidtest](img/rapidtest.png)\n",
    "\n",
    "Podívejme se na [rychlotest společnosti Mobidiag](https://mobidiag.com/products/coronavirus-1/). Na webu najdeme výsledky z klinických studií. Zvýrazněné položky - sensitivitu a specificitu - výrobce uvádí, odstatní si dopočteme jako doplněk do jedničky. $Pr$ níže použijeme jako značení pro *pravděpodobnostní míru*.\n",
    "\n",
    "| Statistický model rychlotestu | Pacient pozitivní ($pp$) | Pacient negativní ($pn$) |\n",
    "|---|---|---|\n",
    "| Test pozitivní ($tp$) | **0.974**    (sensitivita, true pos. rate) | 0.038 |\n",
    "| Test negativní ($tn$) | 0.026 | **0.962**  (specificita, true neg. rate) |\n",
    "| **Suma (pro kontrolu)**| $Pr(tp\\vert pp) + Pr(tn\\vert pp) = 1$ | $Pr(tp\\vert pn) + Pr(tn\\vert pn) = 1$|\n",
    "\n",
    "Uvádí se (k 30.3.), že reálně je nakaženo aspoň 20 000 lidí, tj. zhruba 10x víc, než je zachyceno současným testováním. Z toho nám vychází prevalence (přítomnost $pp$ v populaci, uvažujme pro jednoduchost 10 milionů obyvatel) a podíl zdravé populace\n",
    "\n",
    "| Procento pac. pozitivních (prevalence), $Pr(pp)$ | Procento pac. negativních, $Pr(pn)$ |\n",
    "|---|---|\n",
    "|20 tis/10 mil = 0.002| 1 - 0.002 = 0.998|\n",
    "\n",
    "Pronásobením statistického modelu rychlostestu s marginálními pravděpodobnostmi $Pr(pp)$ a $Pr(pn)$ dostaneme následující tabulku sdružených pravděpodobností, v posledním řádku a sloupci potom vymarginalizovaných přes související proměnné:\n",
    "\n",
    "| Sdružená pst | $pp$ | $pn$ | Marginální pst |\n",
    "| --- | --- | --- | --- |\n",
    "|$tp$ | 0.001948 | 0.037924 | 0.039872 |\n",
    "|$tn$ | 0.000052 | 0.960076 | 0.960128 |\n",
    "|**Marginální pst** | 0.002 | 0.998 | 1 |\n",
    "\n",
    "**Co nám z výsledků vychází? Pokud bychom udělali teď naráz rychlotest celé populaci, u skoro 4% by vycházel pozitivně. To by znamenalo poslat na přetestování plnohodnotným testem celých 400 tisíc lidí! (počítal-li jsem správně)**\n",
    " \n",
    "Podívejme se, jak jsem to počítal:"
   ]
  },
  {
   "cell_type": "code",
   "execution_count": 12,
   "metadata": {},
   "outputs": [
    {
     "name": "stdout",
     "output_type": "stream",
     "text": [
      "P(tp & pp) = 0.001948\t P(tp & pn) = 0.037924\t P(tp) = 0.039872\n",
      "P(tn & pp) = 0.000052\t P(tn & pn) = 0.960076\t P(tn) = 0.960128\n",
      "P(pp) = 0.002000\t P(pn) = 0.998000\t P(Omega) = 1.000000\n"
     ]
    }
   ],
   "source": [
    "P_tp_pp = 0.974\n",
    "P_tn_pn = 0.962\n",
    "P_tn_pp = 1 - P_tp_pp\n",
    "P_tp_pn = 1 - P_tn_pn\n",
    "P_pp = 0.002\n",
    "P_pn = 1 - P_pp\n",
    "\n",
    "# Sdružené psti\n",
    "P_tppp = P_tp_pp * P_pp\n",
    "P_tppn = P_tp_pn * P_pn\n",
    "P_tnpp = P_tn_pp * P_pp\n",
    "P_tnpn = P_tn_pn * P_pn\n",
    "\n",
    "# Marginální psti\n",
    "P_tp = P_tppp + P_tppn\n",
    "P_tn = P_tnpp + P_tnpn\n",
    "P_pp_check = P_tnpp + P_tppp   # Pro kontrolu, musí vyjít = P_pp\n",
    "P_pn_check = P_tnpn + P_tppn   # Pro kontrolu, musí vyjít = P_pn\n",
    "\n",
    "print(f'P(tp & pp) = {P_tppp:.6f}\\t P(tp & pn) = {P_tppn:.6f}\\t P(tp) = {P_tp:.6f}')\n",
    "print(f'P(tn & pp) = {P_tnpp:.6f}\\t P(tn & pn) = {P_tnpn:.6f}\\t P(tn) = {P_tn:.6f}') \n",
    "print(f'P(pp) = {P_pp_check:.6f}\\t P(pn) = {P_pn_check:.6f}\\t P(Omega) = {P_tp+P_tn:.6f}') "
   ]
  },
  {
   "cell_type": "markdown",
   "metadata": {},
   "source": [
    "A ještě by nás mohlo (mělo) zajímat, jaká je pravděpodobnost, že pokud test vyšel pozitivně, je pacient opravdu nakažený. A všechny variace na toto téma. Tedy Bayesova věta - inverzní pravděpodobnost k údajům od výrobce - v praxi na konkrétním vzorku, např.\n",
    "\n",
    "$$\n",
    "P(pp|tp) = \\frac{P(tp|pp) P(pp)}{P(tp)} = 0.048856\n",
    "$$\n",
    "\n",
    "a\n",
    "\n",
    "$$\n",
    "P(pn|tn) = \\frac{P(tn|pp) P(pn)}{P(tn)} = 0.999946.\n",
    "$$\n",
    "\n",
    "Ostatní dostaneme jako zbytek do jedničky :)"
   ]
  },
  {
   "cell_type": "code",
   "execution_count": 16,
   "metadata": {},
   "outputs": [
    {
     "name": "stdout",
     "output_type": "stream",
     "text": [
      "P(pp|tp) = 0.048856\t P(pn|tp) = 0.951144\t Kontrola: 1.000000\n",
      "P(pp|tn) = 0.000054\t P(pn|tn) = 0.999946\t Kontrola: 1.000000\n"
     ]
    }
   ],
   "source": [
    "P_pp_tp = P_tppp / P_tp\n",
    "P_pn_tn = P_tnpn / P_tn\n",
    "P_pn_tp = P_tppn / P_tp\n",
    "P_pp_tn = P_tnpp / P_tn\n",
    "\n",
    "print(f'P(pp|tp) = {P_pp_tp:.6f}\\t P(pn|tp) = {P_pn_tp:.6f}\\t Kontrola: {P_pp_tp + P_pn_tp:.6f}')\n",
    "print(f'P(pp|tn) = {P_pp_tn:.6f}\\t P(pn|tn) = {P_pn_tn:.6f}\\t Kontrola: {P_pp_tn + P_pn_tn:.6f}')"
   ]
  },
  {
   "cell_type": "markdown",
   "metadata": {},
   "source": [
    "### Použitelnost rapid testů\n",
    "\n",
    "Rapid testy jsou zaměřeny na testování elevované hladiny imunoglobulinů IgG a IgM. K jejich náběhu je potřeba, aby se s infekčním agens už organismus nějakou dobu potýkal. Výsledkem je, že rapid testy nedokážou dobře zachytit nemocné v časné fázi, což bylo i zdrojem rozčarování (tuším ostravské) hygieničky, kde měli velkou hromadu false negatives a nízkou hodnotu true positives (matně vzpomínám snad 30%?).\n",
    "\n",
    "Více viz na wikiskriptech: https://www.wikiskripta.eu/w/Protil%C3%A1tka\n",
    "\n",
    "### K zamyšlení\n",
    "Zkuste se ještě zamyslet, kdyby těch pozitivních lidí bylo ve skutečnosti méně (nebo více), jak by to ovlivnilo výsledky. Z výše uvedeného je dobře vidět, že sensitivita i specificita testu jsou ošemetná čísla a velmi záleží na prevalenci."
   ]
  },
  {
   "cell_type": "markdown",
   "metadata": {
    "slideshow": {
     "slide_type": "slide"
    }
   },
   "source": [
    "---\n",
    "\n",
    "## Příklady ze slajdů\n",
    "\n",
    "### 3.1 Dle odhadu je 90% vyrobených integrovaných obvodů plně funkčních (F). Požadavek zákazníka je, aby 99% obvodů bylo plně funkčních. Vyrobené obvody jsou proto otestovány. Studie ukázala, že testem projde jako \"akceptovatelných (A)\" 80% plně funkčních a 10% vadných (V) obvodů.\n",
    "\n",
    "**a) Spočtěte pravděpodobnost, že vyrobený obvod projde testem jako \"akceptovatelný\"**\n",
    "\n",
    "*Sepíšeme si nejprve, co víme:*\n",
    "\n",
    "- $P(F) = 0.9$\n",
    "- $P(V) = 0.1$ *(doplněk)*\n",
    "- $P(A|F) = 0.8$\n",
    "- $P(A|V) = 0.1$\n",
    "\n",
    "*Ptáme se na $P(A)$:*\n",
    "\n",
    "$$\n",
    "P(A) = P(A|F)P(F) + P(A|V)P(V) = 0.8 \\cdot 0.9 + 0.1 \\cdot 0.1 = 0.73.\n",
    "$$\n",
    "\n",
    "**b) Splní firma požadavek zákazníka? To jest, jaká je podmíněná pravděpodobnost, že obvod je plně funkční za předpokladu, že prošel testem jako akceptovatelný?**\n",
    "\n",
    "*Ptáme se na $P(F|A)$, což je inverzní problém, tuto pravděpodobnost nemám = použiji Bayesovu větu. Jsem-li pohodlný si ji pamatovat, triviálně si odvodím, že*\n",
    "\n",
    "$$\n",
    "P(F|A)P(A) = P(A|F)P(F) \\Rightarrow P(F|A) = \\frac{P(A|F)P(F)}{P(A)}.\n",
    "$$\n",
    "\n",
    "*Jmenovatel už máme vypočtený z předchozího bodu, tak jej rovnou použijeme a uvidíme, že firma požadavek nesplní.*\n",
    "\n",
    "$$\n",
    "P(F|A) = \\frac{0.8 \\cdot 0.9}{0.73} = 0.986 < 0.99.\n",
    "$$\n",
    "\n",
    "**c) Výroba obvodu stojí 2Kč a jeho test 0.2Kč. Obvody, které neprojdou testem, jsou skartovány. Kolik celkem stojí výrobce jeden dodaný obvod?**\n",
    "\n",
    "*Víme, že z $N$ vyrobených kusů za celkem $N\\cdot$ 2.2Kč projde jen $0.73N$. Celkové náklady na dodaný kus jsou tedy*\n",
    "\n",
    "$$\n",
    "\\frac{2.2 \\cdot N}{0.73 \\cdot N} = 3.01\\text{Kč}.\n",
    "$$"
   ]
  },
  {
   "cell_type": "markdown",
   "metadata": {
    "slideshow": {
     "slide_type": "slide"
    }
   },
   "source": [
    "### 3.2 Senzitivita testu - pravděpodobnost pozitivního testu (tp) pokud je pacient nemocný (pn) - je 95%. Specificita - pravděpodobnost negativního testu (tn) pokud pacient nemocný není (pz) - je 97%. Danou chorobou trpí 5% populace (pn, tzv. prevalence).\n",
    "\n",
    "**a) Jaká je pravděpodobnost, že pacient je nemocný, pokud test vyšel pozitivní?**\n",
    "\n",
    "*Sepíšeme si, co víme a co můžeme snadno dopočítat z doplňků:*\n",
    "\n",
    "- $P(tp|pn) = 0.95$\n",
    "- $P(tn|pz) = 0.97$\n",
    "- $P(pn) = 0.05$\n",
    "- $P(pz) = 0.95$ *(z doplňku)*\n",
    "- $P(tp|pz) = 0.03$ *(dtto)*\n",
    "- $P(tn|pn) = 0.05$ *(dtto)*\n",
    "\n",
    "*Hledáme $P(pn|tp)$, tedy opět inverzní pravděpodobnost a opět Bayes:*\n",
    "\n",
    "$$\n",
    "P(pn|tp)\\cdot P(tp) = P(tp|pn)\\cdot P(pn) \\Rightarrow \n",
    "P(pn|tp) = \\frac{P(tp|pn)\\cdot P(pn)}{P(tp)}.\n",
    "$$\n",
    "\n",
    "*Chybí nám jmenovatel, ale víme, že jde o úplnou pravděpodobnost, tedy*\n",
    "\n",
    "$$\n",
    "P(tp) = P(tp|pz) P(pz) + P(tp|pn) P(pn) = 0.03\\cdot 0.95 + 0.95\\cdot 0.05 = 0.95 \\cdot 0.08.\n",
    "$$\n",
    "\n",
    "*A dosadíme do Bayesovy věty,*\n",
    "\n",
    "$$\n",
    "P(pn|tp) = \\frac{P(tp|pn)\\cdot P(pn)}{P(tp)}\n",
    "= \\frac{0.95\\cdot 0.05}{0.95\\cdot 0.08} = \\frac{5}{8}.\n",
    "$$\n",
    "\n",
    "*Nic moc, že?*\n",
    "\n",
    "**b) A naopak, jaká je pravděpodobnost, že pacient je nemocný, pokud test vyšel negativní?**\n",
    "\n",
    "*Řešíme úplně analogicky pro $P(pn|tn)$ a dostaneme 0.0027.*"
   ]
  },
  {
   "cell_type": "markdown",
   "metadata": {
    "slideshow": {
     "slide_type": "slide"
    }
   },
   "source": [
    "### 3.3 Pólyův model: Mějme zásobník a v něm $r$ červených a $b$ modrých kuliček. Ze zásobníku budeme náhodně tahat kuličku. Po vytažení kuličku do zásobníku vrátíme a přidáme dalších $c$ kuliček té barvy, kterou jsme vytáhli.\n",
    "\n",
    "**Některé speciální případy:**\n",
    "\n",
    "- $c=0$ **- Bernoulliho model (opakované tahy s vracením)**\n",
    "- $c = -1$ **- tahy bez vracení, viz př. 2.4.**\n",
    "\n",
    "(Více k Pólyově urně na konci notebooku.)\n",
    "\n",
    "**a) Určete pravděpodobnost, že v prvních třech po sobě následujících tazích vytáhneme červenou kuličku (r).**\n",
    "\n",
    "*Použijeme vzoreček pro úplnou pravděpodobnost, neboť nám jde o průnik jevů \"v prvním tahu r\" a \"v druhém tahu r\" a \"ve třetím tahu r\", označíme $r_1, r_2, r_3$. Jde o jednoduché podíly počtu příznivých a celkového počtu všech možností:\"*\n",
    "\n",
    "$$\n",
    "\\begin{aligned}\n",
    "P(r_1 \\cap r_2 \\cap r_3) \n",
    "&= P(r_1)\\cdot P(r_2|r_1)\\cdot P(r_3|r_1\\cap r_2) \\\\\n",
    "&= \\frac{r}{r+b} \\cdot \\frac{r+c}{r+c+b} \\cdot \\frac{r+2c}{r+2c+b}.\n",
    "\\end{aligned}\n",
    "$$\n",
    "\n",
    "**b) Jaká je pravděpodobnost, že jsme v prvním tahu vytáhli modrou kuličku, jestliže ve třetím tahu vytáhneme červenou kuličku?**\n",
    "\n",
    "\n",
    "$$\n",
    "P(b_1|r_3) = \\frac{P(r_3|b_1) P(b_1)}{P(r_3)} = \\frac{\\frac{r}{r+c+b} \\frac{b}{r+b}}{\\frac{r}{r+b}} = \\frac{b}{r+b+c}.\n",
    "$$"
   ]
  },
  {
   "cell_type": "markdown",
   "metadata": {
    "slideshow": {
     "slide_type": "slide"
    }
   },
   "source": [
    "### 3.4 První hokejista ($H_1$) vstřelí při každém pokusu gól s pravděpodobností 4/5. Druhý $H_2$ s pravděpodobností 3/4. Třetí $H_3$ s pravděpodobností 2/3. Samostatných nájezdů ke konci zápasu se účastnili tito tři hráči a padly právě 2 góly. S jakou pravděpodobností se třetí hokejista netrefil?\n",
    "\n",
    "*Pravděpodobnost úspěchu či neúspěchu je mezi hokejisty nezávislá. Můžeme tedy brát jejich pravděpodobnosti jako míru případného úspěchu či neúspěchu. Víme následující:*\n",
    "\n",
    "- $P(H_1) = \\frac{4}{5} \\quad \\Rightarrow \\quad P(H_1^C) = \\frac{1}{5}$,\n",
    "- $P(H_2) = \\frac{3}{4} \\quad \\Rightarrow \\quad P(H_2^C) = \\frac{1}{4}$,\n",
    "- $P(H_3) = \\frac{2}{3} \\quad \\Rightarrow \\quad P(H_3^C) = \\frac{1}{3}$.\n",
    "\n",
    "*Počítat budeme míru dotazovaného jevu $H_1 H_2 H_3^C$ dělenou mírou všech jevů kdy padly dva góly, tj. $H_1^C H_2 H_3, H_1 H_2^C H_3, H_1 H_2 H_3^C$:*\n",
    "\n",
    "$$\n",
    "\\begin{aligned}\n",
    "P(H_3^C | 2\\ góly) \n",
    "&= \\frac{P(H_1 H_2 H_3^C)}{P(H_1^C H_2 H_3) + P(H_1 H_2^C H_3) + P(H_1 H_2 H_3^C)} \\\\\n",
    "&= \\frac{\\frac{4}{5} \\frac{3}{4} \\frac{1}{3}}{\n",
    "\\frac{1}{5} \\frac{3}{4} \\frac{2}{3} +\n",
    "\\frac{4}{5} \\frac{1}{4} \\frac{2}{3} +\n",
    "\\frac{4}{5} \\frac{3}{4} \\frac{1}{3}} \n",
    "= \\frac{6}{13}.\n",
    "\\end{aligned}\n",
    "$$"
   ]
  },
  {
   "cell_type": "markdown",
   "metadata": {
    "slideshow": {
     "slide_type": "slide"
    }
   },
   "source": [
    "### 3.5 Při zkoušce z PST, jejíž úspěšnost byla jen 60%, jsme od studentů zjišťovali, jaké materiály použili při studiu.\n",
    "\n",
    "- **Z těch, kteří uspěli (U), 20% použilo jen fitwiki (F), 75% i své poznámky (p), 5% nepoužilo žádné materiály ($\\emptyset$).**\n",
    "- **Z těch, kteří neuspěli (N), se 60% učilo jen z fitwiki (F), 5% i z jiných materiálů (p) a 35% se neučilo vůbec ($\\emptyset$).**\n",
    "\n",
    "**a) Jaká je pravděpodobnost, že student uspěl při zkoušce, jestliže se učil jen z fitwiki?**\n",
    "\n",
    "*Shrneme si, co víme:*\n",
    "\n",
    "- $P(F|U)=0.2$\n",
    "- $P(F\\cap p|U)=0.75$\n",
    "- $P(\\emptyset|U) = 0.05$\n",
    "- $P(F|N) = 0.6$\n",
    "- $P(F\\cap p|N)=0.05$\n",
    "- $P(\\emptyset|N) = 0.35$\n",
    "- $P(U) = 0.6 \\quad\\Rightarrow P(N) = 0.4$\n",
    "\n",
    "*Ptáme se na úspěch za podmínky fitwiki, tedy $P(U|F)$, což je inverzní pravděpodobnost a budeme tedy potřebovat Bayese. Pro tentokrát jej už napíšeme v celé parádě (zvítězivše nad pohodlností :-))*\n",
    "\n",
    "$$\n",
    "P(U|F) = \\frac{P(F|U) \\cdot P(U)}{P(F|U)\\cdot P(U) + P(F|N)\\cdot P(N)}\n",
    "= \\frac{0.2 \\cdot 0.6}{0.2\\cdot 0.6 + 0.6\\cdot 0.4} = \\frac{1}{3}.\n",
    "$$\n",
    "\n",
    "**b) Jaký podíl studentů se při studiu učil i z jiných poznámek, než jen z fitwiki?**\n",
    "\n",
    "*Ptáme se na úplnou pravděpodobnost (resp. míru) jevu $\\{F\\cap p\\}$, tedy potřebujeme vzorec pro úplnou pravděpodobnost:*\n",
    "\n",
    "$$\n",
    "P(F\\cap p) = P(F\\cap p|U)\\cdot P(U) + P(F\\cap p|N)\\cdot P(N) = 0.75 \\cdot 0.6 + 0.05 \\cdot 0.4 = 0.47.\n",
    "$$"
   ]
  },
  {
   "cell_type": "markdown",
   "metadata": {
    "slideshow": {
     "slide_type": "slide"
    }
   },
   "source": [
    "---\n",
    "---\n",
    "\n",
    "# Pro zvídavé: Pólyúv model (urna)\n",
    "\n",
    "(Základní) Pólyúv model, pojmenovaný po Georgi Pólyovi, popisuje následující proces:\n",
    "\n",
    "- V urně je $r$ červených (R) a $b$ modrých (B) kuliček (red, blue).\n",
    "- Náhodně vybereme jednu kuličku a vrátíme ji zpět (výběr s opakování, vracením).\n",
    "- Do urny přidáme $c$ kuliček téže barvy, jako měla kulička vybraná.\n",
    "\n",
    "Strom jednotlivých tahů a stavů urny vypadá následovně:\n",
    "![Polya](img/polyatree.png)\n",
    "\n",
    "Pólyúv model s kladným $c$ je někdy charakterizován jako \"rich get richer\", nicméně model má celkově velmi zajímavé a současně maličko neintuitivní vlastnosti. Označíme $R_i$ a $B_i$ jev, že v $i$tém tahu byla vytažena kulička červená nebo modrá kulička. Potom:\n",
    "\n",
    "$$\n",
    "\\begin{aligned}\n",
    "P(R_1) &= \\frac{r}{r+b}, \\qquad P(B_1)=\\frac{b}{r+b}, \\\\\n",
    "P(R_2) &= P(R_1 \\cap R_2) + P(B_1 \\cap R_2) = P(R_2|R_1)P(R_1) + P(R_2|B_1) P(B_1) \\\\\n",
    "       &= \\frac{r+c}{r+c+b}\\cdot\\frac{r}{r+b} + \\frac{r}{r+c+b} \\cdot \\frac{b}{r+b} = \\frac{r}{r+b},\\\\\n",
    "P(R_3) &= [\\text{analogicky}] = \\frac{r}{r+b}.\n",
    "\\end{aligned}\n",
    "$$\n",
    "\n",
    "Stejné vztahy platí pro modrou kuličku. Uvažujme tedy nyní, že pokud $P(R_i) = \\frac{r}{r+b}$ platilo pro $i=1,2,3$, potom bude platit i pro $i=n$ a\n",
    "\n",
    "$$\n",
    "P(R_{n+1}) = P(R_{n+1}|R_1) P(R_1) + P(R_{n+1}|B_1) P(B_1).\n",
    "$$\n",
    "\n",
    "Nyní jsme tedy v situaci, kdy $R_1$ vede na $(r+c)$ červených a $b$ modrých kuliček a\n",
    "\n",
    "$$\n",
    "P(R_{n+1}|R_1) = \\frac{(r+c)}{(r+c)+b}\n",
    "$$\n",
    "\n",
    "a analogicky\n",
    "\n",
    "$$\n",
    "P(R_{n+1}|B_1) = \\frac{r}{r+(b+c)},\n",
    "$$\n",
    "\n",
    "a tedy\n",
    "\n",
    "$$\n",
    "P(R_{n+1}) = \\frac{(r+c)}{(r+c)+b} \\cdot \\frac{r}{r+b} + \\frac{r}{r+(b+c)}\\cdot \\frac{r}{r+b} = \\frac{r}{r+b}.\n",
    "$$\n",
    "\n",
    "Z toho tedy plyne i poměrně proti intuici jdoucí výsledek\n",
    "\n",
    "$$\n",
    "P(R_{i}) = \\frac{r}{r+b}, \\qquad P(B_i) = \\frac{b}{r+b}, \\qquad i=1,2,\\ldots.\n",
    "$$\n",
    "\n",
    "Hezké intuitivní vysvětlení je např. na StackExchange [tady](https://math.stackexchange.com/questions/378810/a-problem-on-polyas-urn-scheme) nebo včetně obrázku [tady](https://math.stackexchange.com/questions/1441545/intuitive-heuristic-explanation-of-polyas-urn)"
   ]
  },
  {
   "cell_type": "markdown",
   "metadata": {
    "slideshow": {
     "slide_type": "slide"
    }
   },
   "source": [
    "Použití tohoto modelu, resp. jeho variant, je velmi široké. Například jej lze použít v epidemiologii k modelování šíření infekcí, v informatice k modelování různých algoritmů jako Tree Sort a vyhodnocování jejich vlastností. V neparametrické bayesovské analýze  používáme procesy odvozené od Pólyova modelu k odhadu směsí o neznámém počtu komponent.\n",
    "\n",
    "---\n",
    "\n",
    "![denoising](img/denoising.png)\n",
    "Denoising pomocí neparametrického slovníkového učení - odstranění šumu z obrázku. Zleva: Originál, zašuměný obrázek, odšuměný obrázek, naučený slovník. [M. Zhou et al.: Nonparametric Bayesian dictionary learning for analysis of noisy and incomplete images]\n",
    "\n",
    "---\n",
    "\n",
    "![brain](img/denoisingbrain.png)\n",
    "Denoising MRI obrázku. [Y. Huang et al.: Bayesian nonparametric dictionary learning for compressed sensing MRI]\n",
    "\n",
    "Zájemci se o Pólya modelu mohou dozvědět hodně z knihy od H.M. Mahmouda: Pólya Urn Models."
   ]
  }
 ],
 "metadata": {
  "kernelspec": {
   "display_name": "Python 3 (ipykernel)",
   "language": "python",
   "name": "python3"
  },
  "language_info": {
   "codemirror_mode": {
    "name": "ipython",
    "version": 3
   },
   "file_extension": ".py",
   "mimetype": "text/x-python",
   "name": "python",
   "nbconvert_exporter": "python",
   "pygments_lexer": "ipython3",
   "version": "3.12.5"
  }
 },
 "nbformat": 4,
 "nbformat_minor": 4
}
