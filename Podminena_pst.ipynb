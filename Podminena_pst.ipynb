{
 "cells": [
  {
   "cell_type": "markdown",
   "metadata": {},
   "source": [
    "**Materiály vznikají průběžně a jsou bez záruky - prosím o report chyb :-)**\n",
    "\n",
    "---"
   ]
  },
  {
   "cell_type": "code",
   "execution_count": 1,
   "metadata": {},
   "outputs": [],
   "source": [
    "import numpy as np\n",
    "from scipy.special import comb\n",
    "np.set_printoptions(precision=3)"
   ]
  },
  {
   "cell_type": "markdown",
   "metadata": {},
   "source": [
    "# Téma 2: Podmíněná pravděpodobnost\n",
    "\n",
    "> **Definice**\n",
    ">\n",
    "> Buďte $A$ a $B$ jevy a $P(B) > 0$. **Podmíněnou pravděpodobností** $A$ za podmínky $B$ nazýváme\n",
    "> \n",
    ">$$\n",
    "P(A|B) = \\frac{P(A\\cap B)}{P(B)}.\n",
    "$$"
   ]
  },
  {
   "cell_type": "markdown",
   "metadata": {},
   "source": [
    "## Příklad - ilustrační\n",
    "\n",
    "Máme dvě férové - tedy vyvážené - kostky. Máme spočítat pravděpodobnost, že na první padla 2 za předpokladu (*podmínky*!), že součet čísel na obou kostkách je nejvýše 5.\n",
    "\n",
    "![podminena](img/podminena-2kostky.png)\n",
    "\n",
    "Jak je patrné, je vždy dobré si raději pečlivě rozepsat nebo rozkreslit vše, co známe. Zkušenost nás pak naučí si vybírat, co opravdu potřebujeme."
   ]
  },
  {
   "cell_type": "markdown",
   "metadata": {},
   "source": [
    "Zabývejme se nyní tímto problémem: Máme ze znalosti předchozího určit $P(K_1=2)$, tedy *marginální pravděpodobnost*. Celkem triviálně víme, že to je $\\frac{1}{6}$, ale ukažme si to pomocí podmíněných pravděpodobností, tedy za podmínky že buď byl součet nejvýše pět či více jak pět:\n",
    "\n",
    "$$\n",
    "\\begin{aligned}\n",
    "P(K_1=2) \n",
    "&= P(K_1=2|K_1+K_2\\leq 5) P(K_1+K_2\\leq 5) \\\\ &+  P(K_1=2|K_1+K_2> 5) P(K_1+K_2 > 5) \\\\\n",
    "&= P(\\{K_1=2\\} \\cap \\{K_1+K_2\\leq 5\\}) + P(\\{K_1=2\\} \\cap \\{K_1+K_2 > 5\\}) \\\\\n",
    "&= \\frac{3}{36} + \\frac{3}{36} = \\frac{1}{6},\n",
    "\\end{aligned}\n",
    "$$\n",
    "\n",
    "což vidíme odpovídá obrázku. O tom je i věta o úplné pravděpodobnosti."
   ]
  },
  {
   "cell_type": "markdown",
   "metadata": {},
   "source": [
    "> **Lemma**\n",
    ">\n",
    "> Nechť pro jev $B$ platí $P(B) > 0$. Podmíněná pravděpodobnost $P(\\cdot|B)$ je pravděpodobnostní mírou na $(\\Omega, \\mathcal{F})$, tj. splňuje:\n",
    "> \n",
    "> (i) Pro každé $A\\in \\mathcal{F}$ platí $P(A|B) \\in [0, 1]$,\n",
    ">\n",
    "> (ii) $P(\\Omega|B) = 1$,\n",
    ">\n",
    "> (iii) Jsou-li jevy $A_1, A_2,\\ldots\\in\\mathcal{F}$ vzájemně disjunktní, pak $P(\\cup_i A_i|B) = \\sum_i P(A_i|B)$.\n",
    "\n",
    "Pokud jsou $P(A)>0$ a $P(B)>0$, platí\n",
    "\n",
    "$$\n",
    "P(A\\cap B) = P(A|B)P(B) = P(B|A)P(A).\n",
    "$$\n",
    "\n",
    "To je velmi užitečné :)"
   ]
  },
  {
   "cell_type": "markdown",
   "metadata": {},
   "source": [
    "> **Věta o úplné pravděpodobnosti**\n",
    ">\n",
    "> Nechť $B_1, \\ldots, B_n$ je rozklad $\\Omega$ takový, že pro každé $i$ je $P(B_i)>0$. Potom pro každý jev $A$ platí\n",
    ">\n",
    ">$$\n",
    "P(A) = \\sum_{i=1}^n P(A|B_i) P(B_i).\n",
    "$$\n",
    "\n",
    "Věta o úplné pravděpodobnosti vlastně napovídá, jak se dostat k pravděpodobnosti jevu $A$. Stačí se prostě vzít v potaz všechny varianty, které jej podmiňují a přes ně vysčítat. To názorně demonstrují následující příklady."
   ]
  },
  {
   "cell_type": "markdown",
   "metadata": {},
   "source": [
    "### Příklad\n",
    "\n",
    "Hostujeme zdrojové kódy ve verzovacím systému na serveru, k němuž se můžeme připojit pomocí 3 protokolů - https, ssh a git. Kvůli různým nastavením firewallů apod. u různých ISP se k repozitáři dostaneme (OK) s následujícími pravděpodobnostmi:\n",
    "\n",
    "- $P(OK|https) = 0.99$\n",
    "- $P(OK|ssh) = 0.3$\n",
    "- $P(OK|git) = 0.1$\n",
    "\n",
    "Máme určit pravděpodobnost, že se k repozitáři dostaneme na první pokus, pokud vybíráme protokoly se stejnou pravděpodobností."
   ]
  },
  {
   "cell_type": "markdown",
   "metadata": {},
   "source": [
    "*Řešení: abychom se k repozitáři dostali, musíme být úspěšní s https NEBO ssh NEBO gitem,*\n",
    "\n",
    "$$\n",
    "\\begin{aligned}\n",
    "P(OK) &= P(OK|https)\\cdot P(https) + P(OK|ssh)\\cdot P(ssh) + P(OK|git)\\cdot P(git) \\\\\n",
    "&= 0.99 \\cdot \\frac{1}{3} + 0.3 \\cdot \\frac{1}{3} + 0.1 \\cdot \\frac{1}{3} = 0.463.\n",
    "\\end{aligned}\n",
    "$$"
   ]
  },
  {
   "cell_type": "markdown",
   "metadata": {},
   "source": [
    "> **Definice: Nezávislost jevů**\n",
    ">\n",
    "> Jevy $A$ a $B$ se nazývají nezávislé, pokud\n",
    ">\n",
    "> $$\n",
    "P(A\\cap B) = P(A|B)\\cdot P(B) = P(B|A)\\cdot P(A) = P(A) \\cdot P(B).\n",
    "$$\n",
    "\n",
    "Velmi jednoduše řečeno, nezávislost jevů znamená, že jeden jev neovlivňuje pravděpodobnost druhého. Z toho tedy plyne navíc $P(A|B) = P(A)$, viz definice nezávislosti. Z příkladu níže vidíme, že neplatí, že $A, B$ jsou nezávislé, pokud $A\\cap B = \\emptyset$.\n",
    "\n",
    "\n",
    "A vrátíme se tedy ještě jednou ke kostce. Máme nyní určit pravděpodobnost, že na první kostce padla 2 za podmínky, že na druhé kostce padlo liché číslo:\n",
    "\n",
    "$$\n",
    "\\begin{aligned}\n",
    "P(K_1=2|K_2=\\{1,3,5\\}) &= \n",
    "\\frac{P(\\{K_1=2\\} \\cap \\{K_2=\\{1,3,5\\}\\})}{P(K_2=\\{1,3,5\\})} \\\\\n",
    "&= \\frac{\\frac{3}{36}}{\\frac{3}{6}}\n",
    "= \\frac{1}{6} = P(K_1=2).\n",
    "\\end{aligned}\n",
    "$$\n",
    "\n",
    "(Rozepište nebo rozkreslete si to!)"
   ]
  },
  {
   "cell_type": "markdown",
   "metadata": {},
   "source": [
    "**Pozn.: nezávislost vždy ověřujeme na platnosti definice, nikoliv na redukci podmíněných pravděpodobností!**"
   ]
  },
  {
   "cell_type": "markdown",
   "metadata": {},
   "source": [
    "### Příklad na podmíněné pravděpodobnosti\n",
    "Uvažujeme strojové rozpoznávání textu v závislosti na světelných podmínkách. To můžeme popsat podmíněnou pravděpodobností $P(R|S)$, kde R zastupuje \"rozpoznání\" a S \"světelné podmínky\". To je vlastně **model** pro R v závislosti na S. Zapišme pomocí tabulky:\n",
    "\n",
    "$P(R|S)$| Dobré | Přijatelné | Špatné \n",
    "--- | :---: | :---: | :---:\n",
    "Rozpoznáno | 0.99 | 0.6 | 0.3 \n",
    "Nerozpoznáno | 0.01 | 0.4 | 0.7 \n",
    "\n",
    "Uvažujme dále, že pravděpodobnost světelných podmínek $P(S)$ je rozdělena takto:\n",
    "\n",
    "$P(S)$ | Dobré | Přijatelné | Špatné \n",
    "--- | :---: | :---: | :---: \n",
    "$P(S)$ | 0.6 | 0.3 | 0.1 \n",
    "\n",
    "Potom pro průniky jednotlivých jevů dostaneme pravděpodobnosti:\n",
    "\n",
    "$P(R\\cap S)$ | Dobré | Přijatelné | Špatné | *P(R)* |\n",
    "--- | :---: | :---: | :---: | :---: |\n",
    "Rozpoznáno | 0.594 | 0.18 | 0.03 | 0.804 |\n",
    "Nerozpoznáno | 0.006 | 0.12 | 0.07 | 0.196 |\n",
    "*P(S)* | 0.6 | 0.3 | 0.1 | 1 |\n",
    "\n",
    "Hodnoty pro $P(S)$ a $P(R)$ dostáváme podle věty o úplné pravděpodobnosti.\n",
    "\n",
    "**Všimněte si jedné důležité vlastnosti, dobře patrné na součtech sloupců: Když sčítáme pravěpodobnost průnikových jevů přes celý prostor jednoho z jevů, tedy používáme větu o úplné pravděpodobnosti, tak vlastně \"vyeliminujeme\" daný jev. Tomu se říká marginalizace a uslyšíme o ní více v problematice náhodných veličin.**"
   ]
  },
  {
   "cell_type": "markdown",
   "metadata": {},
   "source": [
    "> **Věta: Multiplikativní zákon**\n",
    ">\n",
    "> Nechť pro jevy $A_1, \\ldots, A_n$ je $P(A_1\\cap \\cdots \\cap A_n)>0$. Pak platí\n",
    ">\n",
    "> ![multi](img/multiplikativni.jpg)\n",
    "\n",
    "Strom samozřejmě není součástí věty, jen názorně demonstruje, co nám multiplikativní zákon říká: Pravděpodobnost jedné konkrétní cesty v grafu. Až se budeme zabývat náhodnými veličinami, zjistíme, že toto pravidlo se tam jmenuje *řetězové*, neboť zřetězuje proměnné do sdružené pravděpodobnosti."
   ]
  },
  {
   "cell_type": "markdown",
   "metadata": {},
   "source": [
    "### Příklad\n",
    "Chráníme server portknockingem, který otevírá port 22. Portknocking funguje na portech 1025-2048/tcp, je třeba poslat libovolné pakety v pořadí 1111/tcp, 1234/tcp, 1122/tcp, přičemž nesmí mezi nimi být paket na jiný port. Jaká je pravděpodobnost, že útočník port 22 náhodně otevře, pokud pošle libovolně 3 pakety na uvedený rozsah portů v náhodném pořadí, bez opakování portů?\n",
    "\n",
    "$$\n",
    "\\begin{aligned}\n",
    "P(1111\\cap 1234\\cap 1122) &= P(1111) \\cdot P(1234|1111) \\cdot (1122|1111\\cap 1234) \\\\\n",
    "&= \\frac{1}{1024} \\cdot \\frac{1}{1023} \\cdot \\frac{1}{1022}.\n",
    "\\end{aligned}\n",
    "$$\n",
    "\n",
    "Pokud by na pořadí portů nezáleželo, tak bychom přešli od podmíněných pravděpodobností k nepodmíněným."
   ]
  },
  {
   "cell_type": "code",
   "execution_count": 2,
   "metadata": {},
   "outputs": [
    {
     "name": "stdout",
     "output_type": "stream",
     "text": [
      "záleží-li na pořadí:  9.340572890064714e-10\n",
      "pokud by nezáleželo:  5.604343734038829e-09\n"
     ]
    }
   ],
   "source": [
    "print(\"záleží-li na pořadí: \", 1/(1024 * 1023 * 1022))\n",
    "print(\"pokud by nezáleželo: \", 1/comb(1024, 3))"
   ]
  },
  {
   "cell_type": "markdown",
   "metadata": {},
   "source": [
    "## Příklady ze slajdů\n",
    "\n",
    "### 2.1: Předpokládejme vyváženou kostku.\n",
    "\n",
    "**a) Jaká je pravděpodobnost, že padne čtyřka?**\n",
    "\n",
    "$$\n",
    "P(4) = \\frac{1}{6}.\n",
    "$$\n",
    "\n",
    "**b) Jaká je pravděpodobnost, že padne čtyřka za předpokladu, že padlo sudé číslo?**\n",
    "\n",
    "* *Víme: $P(sudé) = P(2,4,6) = \\frac{3}{6}=\\frac{1}{2}$. Dále víme, že $\\{4\\}\\cap\\{2,4,6\\} = {4}$. Tedy*\n",
    "\n",
    "$$\n",
    "P(4|sudé) = P(4|\\{2,4,6\\})= \\frac{P(\\{4\\}\\cap\\{2,4,6\\})}{P(\\{2,4,6\\})} = \\frac{\\frac{1}{6}}{\\frac{3}{6}} = \\frac{1}{3}.\n",
    "$$\n",
    "\n",
    "**c) Jak se výsledek změní, pokud vím, že sudá padají 2x častěji než lichá?**\n",
    "\n",
    "* *Víme:*\n",
    "\n",
    "|strana| 1 | 2  | 3 | 4  | 5 | 6  |\n",
    "|---|---|----|---|----|---|----|\n",
    "|P(strana)| p | 2p | p | 2p | p | 2p |\n",
    "\n",
    "$$\n",
    "P(4|sudé) = P(4|\\{2,4,6\\})= \\frac{P(\\{4\\}\\cap\\{2,4,6\\})}{P(\\{2,4,6\\})} = \\frac{\\frac{2p}{9p}}{\\frac{6p}{9p}} = \\frac{1}{3}.\n",
    "$$"
   ]
  },
  {
   "cell_type": "markdown",
   "metadata": {},
   "source": [
    "### 2.2 O třídě máme následující informace:\n",
    "\n",
    "- **Ve třídě je 70% chlapců (H),**\n",
    "- **10% z chlapců hraje fotbal (F),**\n",
    "- **žádná z dívek (D) fotbal nehraje.**\n",
    "\n",
    "**a) Kolik procent dětí ve třídě hraje fotbal?**\n",
    "\n",
    "*Víme, že:*\n",
    "\n",
    "- $P(H) = 0.7$\n",
    "- $P(D) = 0.3$\n",
    "- $P(F|H) = 0.1$\n",
    "- $P(F|D) = 0$\n",
    "\n",
    "$$\n",
    "\\begin{aligned}\n",
    "P(F) &= P(F\\cap H) + P(F \\cap D) \\\\\n",
    "&= P(F|H)P(H) + P(F|D)P(D) \\\\\n",
    "&= 0.1 \\cdot 0.7 + 0 \\cdot 0.3 = 0.07.\n",
    "\\end{aligned}\n",
    "$$\n",
    "\n",
    "**b) Jak se výsledek změní, pokud 5% dívek začne hrát fotbal?**\n",
    "\n",
    "*Nyní* $P(F|D) = 0.05$\n",
    "\n",
    "$$\n",
    "\\begin{aligned}\n",
    "P(F) &= P(F\\cap H) + P(F \\cap D) \\\\\n",
    "&= P(F|H)P(H) + P(F|D)P(D) \\\\\n",
    "&= 0.1 \\cdot 0.7 + 0.05 \\cdot 0.3 = 0.085.\n",
    "\\end{aligned}\n",
    "$$\n",
    "\n",
    "*Pozn.: zde je krásně vidět aplikace míry, protože vlastně nepočítáme přímo pravděpodobnost, ale míru množin :-)*"
   ]
  },
  {
   "cell_type": "markdown",
   "metadata": {},
   "source": [
    "### 2.3 Dvě losovací urny obsahují stejné modré nebo bílé kuličky.\n",
    "\n",
    "- **první urna obsahuje 2 bílé (B) a 3 modré (M),**\n",
    "- **druhá urna obsahuje 3 bílé a 4 modré,**\n",
    "- **z první urny náhodně vytáhneme kuličku a přendáme ji do druhé,**\n",
    "- **potom z druhé urny vytáhneme kuličku a podíváme se na ni.**\n",
    "\n",
    "**Jaká je pravděpodobnost, že kulička vytažená z druhé urny bude mít modrou barvu?**\n",
    "\n",
    "*Kreslit, kreslit, kreslit...*\n",
    "![urny](img/ex-urny.jpg)"
   ]
  },
  {
   "cell_type": "markdown",
   "metadata": {},
   "source": [
    "### 2.4 Tahání kuliček z urny\n",
    "\n",
    "- **Urna obsahuje $b$ modrých a $r$ červených kuliček.**\n",
    "- **Postupně je náhodně losujeme a nevracíme je zpět.**\n",
    "\n",
    "**Ukažte, že pravděpodobnost toho, že první červená kulička bude vytažena až v $(k+1)$ tahu, se rovná**\n",
    "\n",
    "$$\n",
    "\\frac{\\binom{r+b-k-1}{r-1}}{\\binom{r+b}{b}}.\n",
    "$$\n",
    "\n",
    "**Řešte úlohu pomocí multiplikativního zákona. Lze ji řešit i kombinatoricku úvahou?**\n",
    "\n",
    "*Označme jevy*\n",
    "\n",
    "- $A_1$ - *1. tažená je modrá*\n",
    "- $A_2$ - *2. tažená je modrá*\n",
    "- *atd.*\n",
    "- $A_k$ - *$k$. tažená je modrá*\n",
    "- $A_{k+1}$ - *$(k+1)$. tažená je červená*\n",
    "\n",
    "*Potom podle multiplikativního zákona (zohledňujeme že v každém dalším tahu pravděpodobnost dané kuličky odpovídá pravděpodobnosti zbývajících kuliček dané barvy a daného počtu):*\n",
    "\n",
    "$$\n",
    "\\begin{aligned}\n",
    "P(A_1 \\cap \\cdots \\cap A_k \\cap A_{k+1})\n",
    "&= P(A_1) P(A_2|A_1) P(A_3|A_1\\cap A_2) \\ldots P(A_{k+1}|A_1\\cap\\ldots\\cap A_k)\n",
    "\\end{aligned}\n",
    "$$\n",
    "\n",
    "*Pro praktické počítání vynásobíme pravděpodobnosti hromadou vhodných zlomků - jedniček (to je to modré násobení vpravo v obrázku):*\n",
    "\n",
    "![ballcomb](img/ballcomb.jpg)\n",
    "*Pokud máte problém najít kombinační čísla pomocí násobení \"jedničkami\", napište si výsledek a snažte se to do něj upravit.*"
   ]
  },
  {
   "cell_type": "markdown",
   "metadata": {},
   "source": [
    "### 2.5 Máme balíček 52 whistových karet (barvy: srdce, káry, píky, kříže; hodnoty 2,...,10, J, Q, K, A).\n",
    "\n",
    "**a) Jsou jevy \"vytažení srdcové karty\" (S) a \"vytažení dámy\" (Q) nezávislé?**\n",
    "\n",
    "*Víme, že:*\n",
    "\n",
    "- $P(Q) = \\frac{4}{52}$\n",
    "- $P(S) = \\frac{1}{4}$\n",
    "\n",
    "*Tedy:*\n",
    "$$\n",
    "\\begin{aligned}\n",
    "P(Q\\cap S) &= P(Q) \\cdot P(S)?\\\\\n",
    "\\frac{1}{52} &= \\frac{1}{4} \\frac{4}{52}=\\frac{1}{52} \\qquad\\Rightarrow{ANO, nezávislé}.\n",
    "\\end{aligned}\n",
    "$$\n",
    "\n",
    "**b) Jak se výsledek změní, přidáme-li do balíčku jednoho (více) žolíků?**\n",
    "\n",
    "*Žolík může zastupovat libovolnou kartu, tedy:*\n",
    "\n",
    "- $P(S) = \\frac{14}{53}$\n",
    "- $P(Q) = \\frac{5}{53}$\n",
    "\n",
    "$$\n",
    "\\frac{2}{53} \\ne \\frac{5}{53} \\frac{14}{53} = \\frac{70}{53^2} \\qquad \\text{NE, nejsou nezávislé}.\n",
    "$$\n",
    "\n",
    "**c) Jak by musel žolík fungovat, aby jevy byly nezávislé?**\n",
    "\n",
    "*Např. žolíky různých barev.*"
   ]
  },
  {
   "cell_type": "markdown",
   "metadata": {},
   "source": [
    "### 2.7 Nechť $A$ a $B$ jsou nezávislé jevy. Ukažte, že také $A^C$ a $B$ jsou nezávislé a tudíž i $A^C$ a $B^C$ jsou nezávislé.\n",
    "\n",
    "*Jelikož $A\\cup A^C = \\Omega$, platí*\n",
    "\n",
    "$$\n",
    "P(B) = P((A\\cup A^C)\\cap B) = P(A\\cap B) + P(A^C \\cap B).\n",
    "$$\n",
    "\n",
    "*Tedy*\n",
    "\n",
    "$$\n",
    "P(A^C) P(B) = (1-P(A))P(B) = P(B)-P(A)P(B) = P(B)-P(A\\cap B) = P(A^C\\cap B).\n",
    "$$"
   ]
  },
  {
   "cell_type": "markdown",
   "metadata": {},
   "source": [
    "### 2.8 Házíme vyváženou kostkou 2x po sobě. Jaká je pravděpodobnost, že součet hodů bude větší než 7, za předpokladu, že v prvním hodu padla čtyřka?\n",
    "\n",
    "*Viz úvodní příklad*\n",
    "$$\n",
    "P(K_1+K_2 > 7|K_1=4) = \\frac{P(\\{K_1+K_2> 7\\}\\cap\\{K_1=4\\}}{P(K_1=4)} = \\frac{3/36}{1/6} = \\frac{1}{2}.\n",
    "$$"
   ]
  },
  {
   "cell_type": "markdown",
   "metadata": {},
   "source": [
    "### 2.9 Mezi body A, B vedou dvě silnice a mezi body B, C vedou také dvě silnice. V zimě může být nezávisle na ostatních každá z těchto 4 silnic zablokována sněhem s pravděpodobností $p$. Jaká je pravděpodobnost, že je možné se dostat z bodu A do bodu C?\n",
    "\n",
    "*Buď můžeme počítat složitě, nebo si uvědomit, že nemožnost postupu A-B má pravděpodobnost $p^2$. Tedy opačný jev má pravděpodobnost $(1-p^2)$. Jelikož je v zadání jasně \"nezávisle\", potom pro cestu B-C platí totéž a pro A-B-C vlivem nezávislosti $(1-p^2)^2$.*"
   ]
  },
  {
   "cell_type": "markdown",
   "metadata": {},
   "source": [
    "### 2.10 Předpokládejme, že\n",
    "\n",
    "- **pravděpodobnosti, že se narodí chlapec nebo dívka jsou stejné,**\n",
    "- **pohlaví dvou různých dětí (i u téže rodičů) jsou nezávislé.**\n",
    "\n",
    "**Vidím fotku, na které jsou rodiče a dvě děti v kostýmech (není poznat pohlaví). Kamarád mi prozradil, že alespoň jedno z dětí je hoch (H).**\n",
    "\n",
    "**a) Jaká je pravděpodobnost, že i druhé dítě je hoch?**\n",
    "\n",
    "*Víme:*\n",
    "- $P(H) = P(D) = \\frac{1}{2}$\n",
    "- $P(HD) = P(HH) = P(DH) = P(DD) = \\frac{1}{4}$\n",
    "\n",
    "*Tedy:*\n",
    "\n",
    "$$\n",
    "P(HH|\\{HD, DH, HH\\}) = \\frac{P(\\{HH\\}\\cap\\{HH, HD, DH\\})}{P(HH, HD, DH)}\n",
    "= \\frac{\\frac{1}{4}}{\\frac{3}{4}} = \\frac{1}{3}.\n",
    "$$\n",
    "\n",
    "Zde je důležité si uvědomit, že po zahlédnutí jednoho chlapce automaticky odpadla varianta *DD* a už to nemůže být 1/4. Říká se tomu také bayesovský update (NI-BML ;), díky kterému máme už nějakou informativní počáteční znalost. Víme jistě, že jedno z dětí už JE chlapec a potřebujeme tedy pracovat pouze s variantami týkajícími se POUZE druhého dítěte.\n",
    "\n",
    "**b) Jestliže nám kamarád prozradí, že alespoň jedno z dětí je hoch narozený v pondělí, a děti se rodí ve všech dnech rovnoměrně, jak se změní odpověď?**\n",
    "\n",
    "*Nyní:*\n",
    "\n",
    "- $P(H_p) = P(D_p) = \\frac{1}{7}$ (hoch či dívka v pondělí)\n",
    "\n",
    "*Bayesovou větou (až příští cvičení!):*\n",
    "\n",
    "$$\n",
    "\\begin{aligned}\n",
    "P(HH|H_p) &= \\frac{P(HH\\cap H_p)}{P(H_p)} \\\\\n",
    "&= \\frac{P(HH) \\cdot P(H_p|HH)}\n",
    "{P(H_p|HH)P(HH) + P(H_p|HD)P(HD) + P(H_p|HH)P(DH) + P(H_p|DD)P(DD)} \\\\\n",
    "&= \\frac{\\frac{1}{4} [1-(1-\\frac{1}{7})^2]}\n",
    "{\\frac{1}{4}[1-(1-\\frac{1}{7})^2] + \\frac{1}{7}\\frac{1}{4} + \\frac{1}{7}\\frac{1}{4} + 0} = \\frac{13}{27}\n",
    "\\end{aligned}\n",
    "$$\n",
    "\n",
    "Tento příklad je znám jako [boy or girl paradox](https://en.wikipedia.org/wiki/Boy_or_Girl_paradox)"
   ]
  },
  {
   "cell_type": "markdown",
   "metadata": {},
   "source": [
    "### 2.11 Galtonův paradox\n",
    "\n",
    "**Hodíme třemi férovými mincemi. Minimálně dvě ukazují stejný výsledek (hlava H nebo orel O). Je vyrovnaná šance, že třetí bude hlava nebo orel. Takže pravděpodobnost, že budou všechny tři stejné, je $P(HHH) = P(OOO) = \\frac{1}{2}$. Souhlasíte?**\n",
    "\n",
    "*Ne, velmi jednoduše - všech jevů je 8, příznivé jsou 2, tedy 1/4. Pravděpodobnost podmínky je totiž 1!*"
   ]
  },
  {
   "cell_type": "markdown",
   "metadata": {},
   "source": [
    "### 2.12 Společnost 5 mužů a 10 žen se náhodně rozdělí na pět skupin po třech osobách. Určete pravděpodobnost, že v každé skupině bude právě jeden muž.\n",
    "\n",
    "*Existuje několik možností, jak tento problém řešit. Můžeme např. uvažovat, že umístíme prvního muže. Následně vybíráme pro druhého ze 14 volných pozic jednu z 12 přípustných. U třetího z 13 volných je 9 přípustných atd.:*\n",
    "\n",
    "$$\n",
    "\\frac{12}{14}\\cdot\\frac{9}{13}\\cdot\\frac{6}{12}\\cdot\\frac{3}{11} = \\frac{3^5}{\\binom{15}{5}}.\n",
    "$$\n",
    "\n",
    "*Alternativně jdeme po mužích postupně a k nim vybíráme ženy s pravděpodobnostmi $\\frac{10}{14}\\frac{9}{13}$ u prvního, $\\frac{8}{11}\\frac{7}{10}$ u druhého atd.*"
   ]
  },
  {
   "cell_type": "markdown",
   "metadata": {},
   "source": [
    "### Marastový příklad č. 7728: Před námi jsou tři krabice. V jedné jsou dvě zlaté mince, ve druhé jsou dvě stříbrné mince a ve třetí je jedna zlatá a jedna stříbrná. Náhodně si vybereme krabici a z ní si náhodně vybereme minci. Předpokládejme, že naše vybraná mince je zlatá. Jaká je pravděpodobnost, že i druhá mince v této krabici je zlatá? \n",
    "\n",
    "*Na tomto příkladu je nejhorší analýza zadání :) Otázka je ekvivalentní k následující: Jaká je pravděpodobnost, že pokud jsme vybrali v prvním tahu zlatou minci, vybrali jsme první krabici. O druhou minci totiž vlastně ani tak moc nejde...*\n",
    "\n",
    "$$\n",
    "P(K_1|Z_1) = \\frac{P(Z_1|K_1)\\cdot P(K_1)}{P(Z_1)}\n",
    "= \\frac{P(Z_1|K_1)\\cdot P(K_1)}{\\sum_{i=1}^{3} P(Z_1|K_i)\\cdot P(K_i)}\n",
    "= \\frac{1\\cdot \\frac{1}{3}}{1\\cdot \\frac{1}{3} + 0\\cdot\\frac{1}{3} + \\frac{1}{2}\\frac{1}{3}} = \\frac{2}{3}.\n",
    "$$"
   ]
  }
 ],
 "metadata": {
  "kernelspec": {
   "display_name": "Python 3 (ipykernel)",
   "language": "python",
   "name": "python3"
  },
  "language_info": {
   "codemirror_mode": {
    "name": "ipython",
    "version": 3
   },
   "file_extension": ".py",
   "mimetype": "text/x-python",
   "name": "python",
   "nbconvert_exporter": "python",
   "pygments_lexer": "ipython3",
   "version": "3.12.5"
  }
 },
 "nbformat": 4,
 "nbformat_minor": 4
}
